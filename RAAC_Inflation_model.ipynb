{
  "nbformat": 4,
  "nbformat_minor": 0,
  "metadata": {
    "colab": {
      "provenance": [],
      "authorship_tag": "ABX9TyN2qTieJT2gi3QkOJdIYofh",
      "include_colab_link": true
    },
    "kernelspec": {
      "name": "python3",
      "display_name": "Python 3"
    },
    "language_info": {
      "name": "python"
    }
  },
  "cells": [
    {
      "cell_type": "markdown",
      "metadata": {
        "id": "view-in-github",
        "colab_type": "text"
      },
      "source": [
        "<a href=\"https://colab.research.google.com/github/shardaishwak/CodeArt/blob/main/RAAC_Inflation_model.ipynb\" target=\"_parent\"><img src=\"https://colab.research.google.com/assets/colab-badge.svg\" alt=\"Open In Colab\"/></a>"
      ]
    },
    {
      "cell_type": "code",
      "execution_count": null,
      "metadata": {
        "colab": {
          "base_uri": "https://localhost:8080/"
        },
        "id": "XqduHTTNfNWW",
        "outputId": "5aeca019-7786-4574-b0f6-4090544613cc"
      },
      "outputs": [
        {
          "output_type": "stream",
          "name": "stdout",
          "text": [
            "0       65.10\n",
            "1       64.83\n",
            "2       64.43\n",
            "3       65.97\n",
            "4       66.55\n",
            "        ...  \n",
            "191    421.51\n",
            "192    427.55\n",
            "193    447.39\n",
            "194    456.18\n",
            "195    456.14\n",
            "Name: OHSTHPI, Length: 196, dtype: float64\n",
            "[65.92166666666668, 66.91833333333332, 68.18666666666667, 69.645, 71.19666666666666, 73.255, 75.34166666666667, 77.37833333333334, 79.71833333333335, 82.37166666666667, 85.06666666666668, 87.86833333333333, 90.77166666666666, 93.425, 95.80666666666667, 97.62333333333333, 99.00833333333333, 100.07166666666666, 100.89166666666667, 101.57666666666667, 102.05666666666667, 102.61166666666668, 102.70833333333336, 100.545, 99.40333333333332, 98.69500000000001, 98.58333333333333, 98.42, 99.26333333333332, 102.10333333333334, 103.60333333333331, 104.77499999999999, 105.48166666666667, 106.30833333333335, 106.66000000000001, 106.995, 107.61666666666666, 108.37833333333333, 109.09666666666665, 110.05166666666666, 111.22666666666665, 112.60333333333334, 114.03333333333335, 115.62, 117.47333333333334, 119.47833333333335, 121.43833333333332, 123.45333333333333, 125.65500000000002, 127.68333333333334, 129.50500000000002, 131.1966666666667, 132.90333333333334, 134.73166666666668, 136.285, 137.89666666666668, 139.52333333333334, 141.20833333333334, 142.72833333333335, 144.03833333333336, 145.51666666666668, 146.91, 148.45833333333334, 149.95166666666665, 151.56333333333333, 153.25166666666667, 154.85833333333332, 156.41833333333332, 157.91333333333333, 159.45333333333332, 161.14666666666668, 162.79999999999998, 164.66166666666666, 166.56166666666667, 168.40166666666664, 170.08333333333334, 171.98166666666668, 174.08333333333334, 176.08833333333334, 178.36666666666667, 180.68833333333336, 183.07000000000002, 185.21500000000003, 187.26166666666666, 189.19166666666663, 191.135, 193.19000000000003, 195.41333333333333, 197.64166666666665, 199.865, 202.21, 204.465, 206.625, 208.5, 210.29500000000004, 212.045, 213.855, 215.75166666666667, 217.8166666666667, 220.48833333333334, 223.31499999999997, 226.13666666666666, 228.84333333333333, 231.43000000000004, 233.81333333333336, 235.87666666666667, 237.8116666666667, 239.6783333333333, 241.52, 243.36833333333334, 245.515, 247.52666666666667, 249.52333333333334, 251.71000000000004, 254.04666666666665, 256.4316666666667, 258.59666666666664, 260.9316666666667, 263.07666666666665, 264.73499999999996, 265.76666666666665, 266.3183333333333, 266.69166666666666, 266.64833333333337, 266.285, 265.4266666666667, 264.74, 264.35499999999996, 263.12833333333333, 260.81666666666666, 258.8516666666667, 258.15833333333336, 256.5033333333334, 253.80166666666665, 251.705, 250.21833333333333, 248.33666666666667, 246.23000000000002, 244.92333333333332, 243.21166666666667, 240.97333333333333, 239.68500000000003, 238.82166666666663, 236.93999999999997, 235.035, 234.75, 234.96166666666667, 234.51333333333332, 234.06500000000003, 234.2733333333333, 234.63833333333332, 234.69333333333336, 235.70166666666668, 237.33833333333334, 239.0233333333333, 240.75500000000002, 243.19000000000003, 245.99166666666667, 248.045, 249.83166666666668, 252.215, 255.22500000000002, 257.5133333333334, 259.5866666666667, 262.80833333333334, 266.4116666666667, 269.3966666666667, 272.1766666666667, 275.97, 280.2866666666667, 283.42833333333334, 286.55166666666673, 290.58666666666664, 294.715, 298.3566666666667, 302.01, 306.075, 310.8183333333333, 315.79999999999995, 321.0633333333333, 328.6933333333333, 338.59499999999997, 349.4866666666667, 361.08666666666664, 375.7266666666667, 390.445, 401.72666666666663, 410.99499999999995, 422.085, 432.7016666666666]\n",
            "Recommended evaluation frequency: 17 months\n"
          ]
        }
      ],
      "source": [
        "# Import libraries\n",
        "import requests\n",
        "\n",
        "import pandas as pd\n",
        "\n",
        "# Read the CSV file into a DataFrame\n",
        "df = pd.read_csv(\"data_ohio.csv\")\n",
        "\n",
        "# Get the second column as a Series\n",
        "second_column = df.iloc[:, 1]  # Using integer-based indexing\n",
        "\n",
        "# Print or use the second_column Series\n",
        "print(second_column)\n",
        "\n",
        "# Define function to get current inflation rate from your API\n",
        "def get_inflation_rate():\n",
        "  # Replace 'YOUR_INFLATION_API_URL' with your actual API URL\n",
        "  # url = 'https://fred.stlouisfed.org/graph/api/series/?obs=true&sid=OHSTHPI'\n",
        "  # response = requests.post(url)\n",
        "  # data = response.json()\n",
        "  # # Extract inflation rate from the API response (modify based on your API's format)\n",
        "  # print(data)\n",
        "  # inflation_rate = data.observations[-1][1]\n",
        "  return second_column[0]\n",
        "\n",
        "# Define function to get historical inflation data (modify based on your API)\n",
        "def get_historical_inflation_data():\n",
        "  # Replace 'YOUR_HISTORICAL_INFLATION_API_URL' with your actual API URL (if applicable)\n",
        "  # If your current API provides historical data, adjust the logic here\n",
        "  url = 'YOUR_HISTORICAL_INFLATION_API_URL'\n",
        "  # ... (implementation to get historical data)\n",
        "  # Replace with sample data for illustration\n",
        "  return second_column\n",
        "\n",
        "# Function to calculate SMA\n",
        "def calculate_sma(inflation_data, window_size):\n",
        "  sma_values = []\n",
        "  for i in range(window_size, len(inflation_data)):\n",
        "    sma = sum(inflation_data[i-window_size:i]) / window_size\n",
        "    sma_values.append(sma)\n",
        "  return sma_values\n",
        "\n",
        "# Define function to calculate evaluation frequency\n",
        "def calculate_evaluation_frequency(inflation_rate, historical_data):\n",
        "  # Set base evaluation frequency (e.g., yearly: 12 months)\n",
        "  base_frequency = 1\n",
        "\n",
        "  # Define threshold inflation rate for more frequent evaluations (e.g., 5%)\n",
        "  threshold_rate = 10\n",
        "\n",
        "  # Calculate SMA for trend analysis (window size can be adjusted)\n",
        "  window_size = 6\n",
        "  sma_values = calculate_sma(historical_data, window_size)\n",
        "\n",
        "  # Analyze SMA trend (increasing or decreasing)\n",
        "  last_two_sma = sma_values[-2:]  # Get the most recent two SMA values\n",
        "  print(sma_values)\n",
        "  if last_two_sma[1] > last_two_sma[0]:  # Increasing SMA suggests increasing inflation\n",
        "    adjustment_factor = 0.3  # Adjust evaluation more frequently (modify as needed)\n",
        "  elif last_two_sma[1] < last_two_sma[0]:  # Decreasing SMA suggests decreasing inflation\n",
        "    adjustment_factor = 1.2  # Adjust evaluation less frequently (modify as needed)\n",
        "  else:  # Flat SMA (no clear trend)\n",
        "    adjustment_factor = 1.0  # Maintain base frequency\n",
        "\n",
        "  # Adjust evaluation frequency based on inflation rate and trend\n",
        "  if inflation_rate > threshold_rate:\n",
        "    adjusted_frequency = base_frequency * (1 + (inflation_rate - threshold_rate) * adjustment_factor)\n",
        "  else:\n",
        "    adjusted_frequency = base_frequency\n",
        "\n",
        "  return int(adjusted_frequency)  # Round to nearest month\n",
        "\n",
        "# Main Script\n",
        "# Get current inflation rate\n",
        "current_inflation_rate = get_inflation_rate()\n",
        "\n",
        "# Get historical inflation data\n",
        "historical_inflation_data = get_historical_inflation_data()\n",
        "\n",
        "# Calculate evaluation frequency\n",
        "evaluation_frequency = calculate_evaluation_frequency(current_inflation_rate, historical_inflation_data)\n",
        "\n",
        "# Print the result\n",
        "print(f\"Recommended evaluation frequency: {evaluation_frequency} months\")"
      ]
    }
  ]
}